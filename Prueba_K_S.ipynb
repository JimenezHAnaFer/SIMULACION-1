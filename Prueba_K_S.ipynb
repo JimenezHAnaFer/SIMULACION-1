{
  "nbformat": 4,
  "nbformat_minor": 0,
  "metadata": {
    "colab": {
      "provenance": [],
      "authorship_tag": "ABX9TyMg6BCL2ApxhHlA5jXvkMcG",
      "include_colab_link": true
    },
    "kernelspec": {
      "name": "python3",
      "display_name": "Python 3"
    },
    "language_info": {
      "name": "python"
    }
  },
  "cells": [
    {
      "cell_type": "markdown",
      "metadata": {
        "id": "view-in-github",
        "colab_type": "text"
      },
      "source": [
        "<a href=\"https://colab.research.google.com/github/JimenezHAnaFer/SIMULACION-1/blob/main/Prueba_K_S.ipynb\" target=\"_parent\"><img src=\"https://colab.research.google.com/assets/colab-badge.svg\" alt=\"Open In Colab\"/></a>"
      ]
    },
    {
      "cell_type": "markdown",
      "source": [
        "**Prueba de Kolmogorov-Smirnov**"
      ],
      "metadata": {
        "id": "vMc0n8TR42Ce"
      }
    },
    {
      "cell_type": "markdown",
      "source": [
        "*Avance 1*"
      ],
      "metadata": {
        "id": "JVl_Rna4BfXb"
      }
    },
    {
      "cell_type": "code",
      "execution_count": null,
      "metadata": {
        "id": "RhjylCOG4zQ1",
        "colab": {
          "base_uri": "https://localhost:8080/"
        },
        "outputId": "065dddce-9a5a-4445-be0c-ec9c41b3bc2e"
      },
      "outputs": [
        {
          "output_type": "stream",
          "name": "stdout",
          "text": [
            "[0.007, 0.048, 0.086, 0.157, 0.166, 0.178, 0.199, 0.298, 0.362, 0.368, 0.401, 0.411, 0.437, 0.478, 0.533, 0.545, 0.551, 0.591, 0.594, 0.631, 0.772, 0.787, 0.926, 0.932, 0.951]\n"
          ]
        }
      ],
      "source": [
        "#Guardar nuestra lista de numeros\n",
        "\n",
        "Lista=[0.048, 0.926, 0.368, 0.787, 0.298, 0.591, 0.007, 0.437, 0.594, 0.199, 0.478, 0.551, 0.178, 0.086, 0.157, 0.166, 0.362, 0.411, 0.951, 0.401, 0.932, 0.533, 0.545, 0.772, 0.631]\n",
        "\n",
        "#Ordenamos los numeros de la lista\n",
        "Lista.sort()  # Ordena la lista en orden ascendente\n",
        "print(Lista)"
      ]
    },
    {
      "cell_type": "markdown",
      "source": [
        "*Avance 2*"
      ],
      "metadata": {
        "id": "MKrpqR1sBn8T"
      }
    },
    {
      "cell_type": "code",
      "source": [
        "#Guardar nuestra lista de numeros\n",
        "\n",
        "Lista=[0.048, 0.926, 0.368, 0.787, 0.298, 0.591, 0.007, 0.437, 0.594, 0.199, 0.478, 0.551, 0.178, 0.086, 0.157, 0.166, 0.362, 0.411, 0.951, 0.401, 0.932, 0.533, 0.545, 0.772, 0.631]\n",
        "\n",
        "#Paso1:Ordenamos los numeros de la lista\n",
        "Lista.sort()  # Ordena la lista en orden ascendente\n",
        "print(Lista)\n",
        "n = len(Lista)\n",
        "\n",
        "#Paso 2: Calcular los valores D+, D- y D\n",
        "D_max = max([(i+1)/n - Lista[i] for i in range(n)])\n",
        "D_min = max([Lista[i] - i/n for i in range(n)])\n",
        "D = max(D_max, D_min)\n",
        "\n",
        "print(f\"D+: {D_max}\")\n",
        "print(f\"D-: {D_min}\")\n",
        "print(f\"D: {D}\")\n",
        "\n",
        "\n"
      ],
      "metadata": {
        "colab": {
          "base_uri": "https://localhost:8080/"
        },
        "id": "BYuhsc0c6FTP",
        "outputId": "157bfda2-6684-4a08-afd7-b4f57e8247fc"
      },
      "execution_count": 9,
      "outputs": [
        {
          "output_type": "stream",
          "name": "stdout",
          "text": [
            "[0.007, 0.048, 0.086, 0.157, 0.166, 0.178, 0.199, 0.298, 0.362, 0.368, 0.401, 0.411, 0.437, 0.478, 0.533, 0.545, 0.551, 0.591, 0.594, 0.631, 0.772, 0.787, 0.926, 0.932, 0.951]\n",
            "D+: 0.16900000000000004\n",
            "D-: 0.04600000000000004\n",
            "D: 0.16900000000000004\n"
          ]
        }
      ]
    },
    {
      "cell_type": "markdown",
      "source": [
        "*Codigo completado*"
      ],
      "metadata": {
        "id": "GWCuEmM6BrV7"
      }
    },
    {
      "cell_type": "markdown",
      "source": [
        "**Ejemplo con datos de clase**"
      ],
      "metadata": {
        "id": "iZhWj2yWBMJZ"
      }
    },
    {
      "cell_type": "code",
      "source": [
        "import math\n",
        "#Guardar nuestra lista de numeros\n",
        "\n",
        "Lista=[0.048, 0.926, 0.368, 0.787, 0.298, 0.591, 0.007, 0.437, 0.594, 0.199, 0.478, 0.551, 0.178, 0.086, 0.157, 0.166, 0.362, 0.411, 0.951, 0.401, 0.932, 0.533, 0.545, 0.772, 0.631]\n",
        "\n",
        "#Paso1:Ordenamos los numeros de la lista\n",
        "Lista.sort()  # Ordena la lista en orden ascendente\n",
        "print(Lista)\n",
        "n = len(Lista)\n",
        "\n",
        "#Paso 2: Calcular los valores D+, D- y D\n",
        "D_max = max([(i+1)/n - Lista[i] for i in range(n)])\n",
        "D_min = max([Lista[i] - i/n for i in range(n)])\n",
        "D = max(D_max, D_min)\n",
        "\n",
        "print(f\"D+: {D_max}\")\n",
        "print(f\"D-: {D_min}\")\n",
        "print(f\"D: {D}\")\n",
        "\n",
        "\n",
        "# Paso 3: Automatizar el cálculo del valor crítico\n",
        "def calcular_valor_critico(alpha, n):\n",
        "  #Calcula el valor crítico para la prueba de Kolmogorov-Smirnov.\n",
        "    #alpha: nivel de significancia (por ejemplo, 0.05 para 95% de confianza).\n",
        "    #n: tamaño de la muestra.\n",
        "\n",
        "    # Fórmula aproximada para el valor crítico\n",
        "    if alpha == 0.10:\n",
        "        return 1.22 / math.sqrt(n)\n",
        "    elif alpha == 0.05:\n",
        "        return 1.36 / math.sqrt(n)\n",
        "    elif alpha == 0.025:\n",
        "        return 1.48 / math.sqrt(n)\n",
        "    elif alpha == 0.01:\n",
        "        return 1.63 / math.sqrt(n)\n",
        "    elif alpha == 0.005:\n",
        "        return 1.73 / math.sqrt(n)\n",
        "    elif alpha == 0.001:\n",
        "        return 1.95 / math.sqrt(n)\n",
        "    else:\n",
        "        raise ValueError(\"Alpha no es un valor estándar (0.10, 0.05, 0.025, 0.01, 0.005, 0.001).\")\n",
        "\n",
        "# Definir el nivel de significancia (alpha)\n",
        "alpha = 0.05  # Puedes cambiar este valor a 0.01, 0.10, etc.\n",
        "\n",
        "# Calcular el valor crítico\n",
        "critical_value = calcular_valor_critico(alpha, n)\n",
        "print(f\"Valor crítico para alpha={alpha}: {critical_value}\")\n",
        "\n",
        "# Comparar D con el valor crítico\n",
        "if D > critical_value:\n",
        "    print(\"Rechazamos la hipótesis nula.\")\n",
        "else:\n",
        "    print(\"No rechazamos la hipótesis nula.\")"
      ],
      "metadata": {
        "colab": {
          "base_uri": "https://localhost:8080/"
        },
        "id": "xcWSteWE9D6J",
        "outputId": "c17b8bf6-3adc-4a6d-d840-49d6b0693c0d"
      },
      "execution_count": 18,
      "outputs": [
        {
          "output_type": "stream",
          "name": "stdout",
          "text": [
            "[0.007, 0.048, 0.086, 0.157, 0.166, 0.178, 0.199, 0.298, 0.362, 0.368, 0.401, 0.411, 0.437, 0.478, 0.533, 0.545, 0.551, 0.591, 0.594, 0.631, 0.772, 0.787, 0.926, 0.932, 0.951]\n",
            "D+: 0.16900000000000004\n",
            "D-: 0.04600000000000004\n",
            "D: 0.16900000000000004\n",
            "Valor crítico para alpha=0.05: 0.272\n",
            "No rechazamos la hipótesis nula.\n"
          ]
        }
      ]
    },
    {
      "cell_type": "markdown",
      "source": [
        "**Listas de numeros aleatorios**"
      ],
      "metadata": {
        "id": "3oQIG5T0BSmR"
      }
    },
    {
      "cell_type": "code",
      "source": [
        "import random\n",
        "import math\n",
        "\n",
        "# Función para generar una lista de n números aleatorios entre 0 y 1 con 4 decimales\n",
        "def generar_lista_aleatoria(n):\n",
        "    return [round(random.random(), 4) for _ in range(n)]\n",
        "\n",
        "# Generar la lista de números aleatorios\n",
        "n = 30  # Tamaño de la muestra\n",
        "Lista = generar_lista_aleatoria(n)\n",
        "\n",
        "# Paso 1: Ordenar los números de la lista\n",
        "Lista.sort()  # Ordena la lista en orden ascendente\n",
        "print(Lista)\n",
        "\n",
        "# Paso 2: Calcular los valores D+, D- y D\n",
        "D_max = max([(i+1)/n - Lista[i] for i in range(n)])\n",
        "D_min = max([Lista[i] - i/n for i in range(n)])\n",
        "D = max(D_max, D_min)\n",
        "\n",
        "print(f\"D+: {D_max}\")\n",
        "print(f\"D-: {D_min}\")\n",
        "print(f\"D: {D}\")\n",
        "\n",
        "# Paso 3: Automatizar el cálculo del valor crítico\n",
        "def calcular_valor_critico(alpha, n):\n",
        "    # Fórmula aproximada para el valor crítico\n",
        "    if alpha == 0.10:\n",
        "        return 1.22 / math.sqrt(n)\n",
        "    elif alpha == 0.05:\n",
        "        return 1.36 / math.sqrt(n)\n",
        "    elif alpha == 0.025:\n",
        "        return 1.48 / math.sqrt(n)\n",
        "    elif alpha == 0.01:\n",
        "        return 1.63 / math.sqrt(n)\n",
        "    elif alpha == 0.005:\n",
        "        return 1.73 / math.sqrt(n)\n",
        "    elif alpha == 0.001:\n",
        "        return 1.95 / math.sqrt(n)\n",
        "    else:\n",
        "        raise ValueError(\"Alpha no es un valor estándar (0.10, 0.05, 0.025, 0.01, 0.005, 0.001).\")\n",
        "\n",
        "# Definir el nivel de significancia (alpha)\n",
        "alpha = 0.05  # Puedes cambiar este valor a 0.01, 0.10, etc.\n",
        "\n",
        "# Calcular el valor crítico\n",
        "critical_value = calcular_valor_critico(alpha, n)\n",
        "print(f\"Valor crítico para alpha={alpha}: {critical_value}\")\n",
        "\n",
        "# Comparar D con el valor crítico\n",
        "if D > critical_value:\n",
        "    print(\"Rechazamos la hipótesis nula.\")\n",
        "else:\n",
        "    print(\"No rechazamos la hipótesis nula.\")"
      ],
      "metadata": {
        "colab": {
          "base_uri": "https://localhost:8080/"
        },
        "id": "hROVtqOK_e9Y",
        "outputId": "ad45eef8-8159-4f0a-fdb8-15e7e627cf17"
      },
      "execution_count": 21,
      "outputs": [
        {
          "output_type": "stream",
          "name": "stdout",
          "text": [
            "[0.0137, 0.0521, 0.0604, 0.1359, 0.1834, 0.2507, 0.274, 0.3626, 0.4888, 0.4937, 0.5323, 0.5412, 0.5515, 0.577, 0.6139, 0.6757, 0.677, 0.6805, 0.6939, 0.7029, 0.721, 0.7469, 0.7707, 0.8092, 0.8414, 0.8462, 0.8591, 0.8631, 0.912, 0.9835]\n",
            "D+: 0.07023333333333337\n",
            "D-: 0.22213333333333335\n",
            "D: 0.22213333333333335\n",
            "Valor crítico para alpha=0.05: 0.24830089273567532\n",
            "No rechazamos la hipótesis nula.\n"
          ]
        }
      ]
    }
  ]
}