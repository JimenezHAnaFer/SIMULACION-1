{
  "nbformat": 4,
  "nbformat_minor": 0,
  "metadata": {
    "colab": {
      "provenance": [],
      "authorship_tag": "ABX9TyMG95XLXil3f/jVqvUfafRq",
      "include_colab_link": true
    },
    "kernelspec": {
      "name": "python3",
      "display_name": "Python 3"
    },
    "language_info": {
      "name": "python"
    }
  },
  "cells": [
    {
      "cell_type": "markdown",
      "metadata": {
        "id": "view-in-github",
        "colab_type": "text"
      },
      "source": [
        "<a href=\"https://colab.research.google.com/github/JimenezHAnaFer/SIMULACION-1/blob/main/M%C3%A9todo_de_las_12_uniformes.ipynb\" target=\"_parent\"><img src=\"https://colab.research.google.com/assets/colab-badge.svg\" alt=\"Open In Colab\"/></a>"
      ]
    },
    {
      "cell_type": "code",
      "execution_count": 3,
      "metadata": {
        "colab": {
          "base_uri": "https://localhost:8080/"
        },
        "id": "eW5f18_f35dK",
        "outputId": "4e863c33-29f5-4966-c194-3bbbd297f546"
      },
      "outputs": [
        {
          "output_type": "stream",
          "name": "stdout",
          "text": [
            "0.0795618226841216\n",
            "0.8502201131345007\n",
            "0.8700101266105551\n",
            "0.5755728267661044\n",
            "0.9326769363313036\n",
            "0.657249269993816\n",
            "0.6096091185491771\n",
            "0.7618577818131999\n",
            "0.7123807059586302\n",
            "0.07147635741444891\n",
            "0.41160813641490657\n",
            "0.8537488810771249\n"
          ]
        }
      ],
      "source": [
        "import random as rd\n",
        "import numpy as np\n",
        "import matplotlib.pyplot as plt\n",
        "\n",
        "#Generar numeros aleatorios (R_i)\n",
        "\n",
        "n=12\n",
        "media=2\n",
        "vaianza=3\n",
        "\n",
        "for _ in range(n):\n",
        "    R_i=rd.random()\n",
        "\n",
        "    print(R_i)\n",
        ""
      ]
    },
    {
      "cell_type": "code",
      "source": [
        "import random as rd\n",
        "import numpy as np\n",
        "import matplotlib.pyplot as plt\n",
        "\n",
        "#Generar numeros aleatorios (R_i)\n",
        "\n",
        "n=12\n",
        "media=2\n",
        "vaianza=3\n",
        "\n",
        "\n",
        "suma=0\n",
        "for _ in range(n):\n",
        "    R_i=rd.random()\n",
        "    suma=suma+R_i\n",
        "\n",
        "print(suma)\n"
      ],
      "metadata": {
        "colab": {
          "base_uri": "https://localhost:8080/"
        },
        "id": "QmUg8Ya6_Jj9",
        "outputId": "49043c56-b788-41f6-9850-80499f75db7e"
      },
      "execution_count": 6,
      "outputs": [
        {
          "output_type": "stream",
          "name": "stdout",
          "text": [
            "6.240516110386839\n"
          ]
        }
      ]
    },
    {
      "cell_type": "code",
      "source": [
        "import random as rd\n",
        "import numpy as np\n",
        "import matplotlib.pyplot as plt\n",
        "\n",
        "#Generar numeros aleatorios (R_i)\n",
        "\n",
        "n=12\n",
        "media=2\n",
        "vaianza=3\n",
        "\n",
        "\n",
        "suma=0\n",
        "for _ in range(n):\n",
        "    R_i=rd.random()\n",
        "    suma=suma+R_i\n",
        "\n",
        "print('La suma de los n numeros es:',suma)\n",
        "\n",
        "\n",
        "#Calculamos z\n",
        "\n",
        "z=suma-6\n",
        "print('El valor de z es:',z)"
      ],
      "metadata": {
        "colab": {
          "base_uri": "https://localhost:8080/"
        },
        "id": "khDr-jkSABnV",
        "outputId": "d3eafa59-3cc1-4fa6-d8a1-ae1f24ec75fe"
      },
      "execution_count": 8,
      "outputs": [
        {
          "output_type": "stream",
          "name": "stdout",
          "text": [
            "La suma de los n numeros es: 5.85951689234328\n",
            "El valor de z es: -0.14048310765671967\n"
          ]
        }
      ]
    },
    {
      "cell_type": "code",
      "source": [
        "from os import listxattr\n",
        "import random as rd\n",
        "import numpy as np\n",
        "import matplotlib.pyplot as plt\n",
        "\n",
        "#Generar numeros aleatorios (R_i)\n",
        "\n",
        "\n",
        "n=12\n",
        "media=2\n",
        "vaianza=3\n",
        "\n",
        "def z():\n",
        " suma=0\n",
        " for _ in range(n):\n",
        "    R_i=rd.random()\n",
        "    suma=suma+R_i\n",
        " return suma-6\n",
        "\n",
        "\n",
        "lista=[]\n",
        "def experimento(m):\n",
        "  for _ in range(m):\n",
        "    x=media+vaianza*z()\n",
        "    lista.append(x)\n",
        "  return lista\n",
        "\n",
        "muestra=experimento(100000)\n",
        "\n",
        "media_muestra=np.mean(muestra)\n",
        "print('La media de la muestra es:',media_muestra)\n",
        "varianza_muestra=np.var(muestra)\n",
        "print('La varianza de la muestra es:',varianza_muestra)\n",
        "desviacion_muestra=np.std(muestra)\n",
        "print('La desviacion de la muestra es:',desviacion_muestra)\n",
        "\n",
        "\n",
        "plt.hist(muestra, bins=200, color='teal')\n",
        "plt.grid(True,linestyle='--',color='gray')\n",
        "plt.show()"
      ],
      "metadata": {
        "colab": {
          "base_uri": "https://localhost:8080/",
          "height": 485
        },
        "id": "64FeEtmUBjRN",
        "outputId": "59e3afdc-4bcc-42ba-a873-fff329d468a9"
      },
      "execution_count": 35,
      "outputs": [
        {
          "output_type": "stream",
          "name": "stdout",
          "text": [
            "La media de la muestra es: 2.012898593498232\n",
            "La varianza de la muestra es: 9.044311907413405\n",
            "La desviacion de la muestra es: 3.0073762497255654\n"
          ]
        },
        {
          "output_type": "display_data",
          "data": {
            "text/plain": [
              "<Figure size 640x480 with 1 Axes>"
            ],
            "image/png": "[encoded data removed]"
          },
          "metadata": {}
        }
      ]
    }
  ]
}