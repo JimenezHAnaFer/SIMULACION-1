{
  "nbformat": 4,
  "nbformat_minor": 0,
  "metadata": {
    "colab": {
      "provenance": [],
      "authorship_tag": "ABX9TyNF5s97RzA8NQ/RemTqk0ds",
      "include_colab_link": true
    },
    "kernelspec": {
      "name": "python3",
      "display_name": "Python 3"
    },
    "language_info": {
      "name": "python"
    }
  },
  "cells": [
    {
      "cell_type": "markdown",
      "metadata": {
        "id": "view-in-github",
        "colab_type": "text"
      },
      "source": [
        "<a href=\"https://colab.research.google.com/github/JimenezHAnaFer/SIMULACION-1/blob/main/Pruebas_de_corridos.ipynb\" target=\"_parent\"><img src=\"https://colab.research.google.com/assets/colab-badge.svg\" alt=\"Open In Colab\"/></a>"
      ]
    },
    {
      "cell_type": "markdown",
      "source": [
        "**Pruebas de corridas**"
      ],
      "metadata": {
        "id": "mic9yT2NqYam"
      }
    },
    {
      "cell_type": "markdown",
      "source": [
        "*AVANCE 1*"
      ],
      "metadata": {
        "id": "I-706-M0woKs"
      }
    },
    {
      "cell_type": "code",
      "execution_count": null,
      "metadata": {
        "colab": {
          "base_uri": "https://localhost:8080/"
        },
        "id": "zHvdk9G3eDXE",
        "outputId": "6ed4b9d3-c1b1-48cb-f743-7825c30c9fca"
      },
      "outputs": [
        {
          "output_type": "stream",
          "name": "stdout",
          "text": [
            "[1, 0, 1, 0, 1, 0, 1, 1, 0, 1, 1, 0, 0, 1, 1, 1, 1, 1, 0, 1, 0, 1, 1, 0]\n"
          ]
        }
      ],
      "source": [
        "#Pruebas de corrido\n",
        "#Guardar lista de numeros\n",
        "\n",
        "Lista=[0.048, 0.926, 0.368, 0.787, 0.298, 0.591, 0.007, 0.437, 0.594, 0.199, 0.478, 0.551, 0.178, 0.086, 0.157, 0.166, 0.362, 0.411, 0.951, 0.401, 0.932, 0.533, 0.545, 0.772, 0.631]\n",
        "\n",
        "\n",
        "#Genera una lista donde se guarde el 1 y 0\n",
        "\n",
        "secuencia=[]\n",
        "\n",
        "#Genera un ciclo donde compara el numero anterior con el actual para generar 1 y 0\n",
        "\n",
        "for i in range(len(Lista)-1):\n",
        "    if Lista[i]<Lista[i+1]:\n",
        "        secuencia.append(1)\n",
        "    else:\n",
        "        secuencia.append(0)\n",
        "print(secuencia)\n",
        "\n",
        "#Saber el numero de racha\n",
        "\n",
        "\n",
        "\n",
        "#Calcular el valor esperado\n",
        "#Calcular el numero de corridas\n",
        "#Calcular Z0"
      ]
    },
    {
      "cell_type": "markdown",
      "source": [
        "*AVANCE 2*"
      ],
      "metadata": {
        "id": "rr58z_IJwym8"
      }
    },
    {
      "cell_type": "code",
      "source": [
        "# Pruebas de corridocorridocorridocorrido\n",
        "# Guardar lista de numeros\n",
        "\n",
        "Lista = [0.048, 0.926, 0.368, 0.787, 0.298, 0.591, 0.007, 0.437, 0.594, 0.199, 0.478, 0.551, 0.178, 0.086, 0.157, 0.166, 0.362, 0.411, 0.951, 0.401, 0.932, 0.533, 0.545, 0.772, 0.631]\n",
        "\n",
        "# Genera una lista donde se guarde el 1 y 0\n",
        "secuencia = []\n",
        "\n",
        "# Genera un ciclo donde compara el número anterior con el actual para generar 1 y 0\n",
        "for i in range(len(Lista) - 1):\n",
        "    if Lista[i] < Lista[i + 1]:\n",
        "        secuencia.append(1)\n",
        "    else:\n",
        "        secuencia.append(0)\n",
        "print(secuencia)\n",
        "\n",
        "# Saber el número de racha\n",
        "racha = 1\n",
        "for i in range(len(secuencia) - 1):  # Se resta 1 para evitar índice fuera de rango\n",
        "    if secuencia[i] != secuencia[i + 1]:  # Cambia de 1 a 0 o viceversa\n",
        "        racha += 1  # Aumenta la racha\n",
        "print(racha)\n"
      ],
      "metadata": {
        "colab": {
          "base_uri": "https://localhost:8080/"
        },
        "id": "hjonHJ5jwwaV",
        "outputId": "f78ed343-1af5-4e73-f317-9d707c0ab9ba"
      },
      "execution_count": null,
      "outputs": [
        {
          "output_type": "stream",
          "name": "stdout",
          "text": [
            "[1, 0, 1, 0, 1, 0, 1, 1, 0, 1, 1, 0, 0, 1, 1, 1, 1, 1, 0, 1, 0, 1, 1, 0]\n",
            "16\n"
          ]
        }
      ]
    },
    {
      "cell_type": "markdown",
      "source": [
        "*AVANCE 3*"
      ],
      "metadata": {
        "id": "OV63VFRLynls"
      }
    },
    {
      "cell_type": "code",
      "source": [
        "# Pruebas de corridocorrido\n",
        "# Guardar lista de numeros\n",
        "\n",
        "Lista = [0.048, 0.926, 0.368, 0.787, 0.298, 0.591, 0.007, 0.437, 0.594, 0.199, 0.478, 0.551, 0.178, 0.086, 0.157, 0.166, 0.362, 0.411, 0.951, 0.401, 0.932, 0.533, 0.545, 0.772, 0.631]\n",
        "\n",
        "# Genera una lista donde se guarde el 1 y 0\n",
        "secuencia = []\n",
        "\n",
        "# Genera un ciclo donde compara el número anterior con el actual para generar 1 y 0\n",
        "for i in range(len(Lista) - 1):\n",
        "    if Lista[i] < Lista[i + 1]:\n",
        "        secuencia.append(1)\n",
        "    else:\n",
        "        secuencia.append(0)\n",
        "print(secuencia)\n",
        "\n",
        "# Saber el número de racha\n",
        "racha = 1\n",
        "for i in range(len(secuencia) - 1):  # Se resta 1 para evitar índice fuera de rango\n",
        "    if secuencia[i] != secuencia[i + 1]:  # Cambia de 1 a 0 o viceversa\n",
        "        racha += 1  # Aumenta la racha\n",
        "print('Número de rachas:', racha)\n",
        "\n",
        "#Calcular el valor esperado\n",
        "\n",
        "valor_esperado=(2*len(Lista)-1)/3\n",
        "print('Valor esperado:',valor_esperado)\n",
        "\n",
        "#Calcular la varianza\n",
        "\n",
        "varianza_cuadrada=(16*len(Lista)-29)/90\n",
        "print('Varianza cuadra:',varianza_cuadrada)\n",
        "\n",
        "varianza=varianza_cuadrada**0.5\n",
        "print('Varianza :', varianza)\n",
        "\n",
        "#Calcular el z0\n",
        "\n",
        "z0=abs((racha-valor_esperado)/varianza)\n",
        "print('Z0=', z0)\n",
        "\n",
        "\n",
        "\n"
      ],
      "metadata": {
        "id": "2rMladVc3qRe",
        "colab": {
          "base_uri": "https://localhost:8080/"
        },
        "outputId": "2d0bab25-39bb-4481-fb20-231a6cbbc9b7"
      },
      "execution_count": 8,
      "outputs": [
        {
          "output_type": "stream",
          "name": "stdout",
          "text": [
            "[1, 0, 1, 0, 1, 0, 1, 1, 0, 1, 1, 0, 0, 1, 1, 1, 1, 1, 0, 1, 0, 1, 1, 0]\n",
            "Número de rachas: 16\n",
            "Valor esperado: 16.333333333333332\n",
            "Varianza cuadra: 4.122222222222222\n",
            "Varianza : 2.030325644378808\n",
            "Z0= 0.16417727582577904\n"
          ]
        }
      ]
    },
    {
      "cell_type": "markdown",
      "source": [
        "**Codigo compelto (Lista visata en clase)**"
      ],
      "metadata": {
        "id": "CO-Rdu3_yqqE"
      }
    },
    {
      "cell_type": "code",
      "source": [
        "import scipy.stats as stats\n",
        "# Pruebas de corridocorrido\n",
        "# Guardar lista de numeros\n",
        "\n",
        "Lista = [0.048, 0.926, 0.368, 0.787, 0.298, 0.591, 0.007, 0.437, 0.594, 0.199, 0.478, 0.551, 0.178, 0.086, 0.157, 0.166, 0.362, 0.411, 0.951, 0.401, 0.932, 0.533, 0.545, 0.772, 0.631]\n",
        "\n",
        "# Genera una lista donde se guarde el 1 y 0\n",
        "secuencia = []\n",
        "\n",
        "# Genera un ciclo donde compara el número anterior con el actual para generar 1 y 0\n",
        "for i in range(len(Lista) - 1):\n",
        "    if Lista[i] < Lista[i + 1]:\n",
        "        secuencia.append(1)\n",
        "    else:\n",
        "        secuencia.append(0)\n",
        "print(secuencia)\n",
        "\n",
        "# Saber el número de racha\n",
        "racha = 1\n",
        "for i in range(len(secuencia) - 1):  # Se resta 1 para evitar índice fuera de rango\n",
        "    if secuencia[i] != secuencia[i + 1]:  # Cambia de 1 a 0 o viceversa\n",
        "        racha += 1  # Aumenta la racha\n",
        "print('Número de rachas:', racha)\n",
        "\n",
        "#Calcular el valor esperado\n",
        "\n",
        "valor_esperado=(2*len(Lista)-1)/3\n",
        "print('Valor esperado:',valor_esperado)\n",
        "\n",
        "#Calcular la varianza\n",
        "\n",
        "varianza_cuadrada=(16*len(Lista)-29)/90\n",
        "print('Varianza cuadra:',varianza_cuadrada)\n",
        "\n",
        "varianza=varianza_cuadrada**0.5\n",
        "print('Varianza :', varianza)\n",
        "\n",
        "#Calcular el z0\n",
        "\n",
        "z0=abs((racha-valor_esperado)/varianza)\n",
        "print('Z0=', z0)\n",
        "\n",
        "# Calcular el valor crítico z_alpha/2 para un nivel de confianza del 95%\n",
        "alpha = 0.05\n",
        "z_alpha_2 = stats.norm.ppf(1 - alpha / 2)\n",
        "print('Valor crítico z_alpha/2:', z_alpha_2)\n",
        "\n",
        "# Intervalo de aceptación\n",
        "print(f'Intervalo de aceptación: [-{z_alpha_2}, {z_alpha_2}]')\n",
        "\n",
        "# Verificar si z0 cae dentro del intervalo de aceptación\n",
        "if -z_alpha_2 <= z0 <= z_alpha_2:\n",
        "    print('Conclusión: No se rechaza la hipótesis nula (H0).')\n",
        "else:\n",
        "    print('Conclusión: Se rechaza la hipótesis nula (H0).')"
      ],
      "metadata": {
        "colab": {
          "base_uri": "https://localhost:8080/"
        },
        "id": "EpwJu5c7u9cL",
        "outputId": "937bb357-211c-4cc4-8b05-51c66265e757"
      },
      "execution_count": 35,
      "outputs": [
        {
          "output_type": "stream",
          "name": "stdout",
          "text": [
            "[1, 0, 1, 0, 1, 0, 1, 1, 0, 1, 1, 0, 0, 1, 1, 1, 1, 1, 0, 1, 0, 1, 1, 0]\n",
            "Número de rachas: 16\n",
            "Valor esperado: 16.333333333333332\n",
            "Varianza cuadra: 4.122222222222222\n",
            "Varianza : 2.030325644378808\n",
            "Z0= 0.16417727582577904\n",
            "Valor crítico z_alpha/2: 1.959963984540054\n",
            "Intervalo de aceptación: [-1.959963984540054, 1.959963984540054]\n",
            "Conclusión: No se rechaza la hipótesis nula (H0).\n"
          ]
        }
      ]
    },
    {
      "cell_type": "markdown",
      "source": [
        "**Codigo completo (Lista al azar)**"
      ],
      "metadata": {
        "id": "36s8VhxBy0gE"
      }
    },
    {
      "cell_type": "code",
      "source": [
        "import scipy.stats as stats\n",
        "import random\n",
        "\n",
        "# Generar una lista de números aleatorios\n",
        "n = 25  # Tamaño de la lista\n",
        "Lista = [random.random() for _ in range(n)]  # Genera números aleatorios entre 0 y 1\n",
        "print('Lista generada:', Lista)\n",
        "\n",
        "# Genera una lista donde se guarde el 1 y 0\n",
        "secuencia = []\n",
        "\n",
        "# Genera un ciclo donde compara el número anterior con el actual para generar 1 y 0\n",
        "for i in range(len(Lista) - 1):\n",
        "    if Lista[i] < Lista[i + 1]:\n",
        "        secuencia.append(1)\n",
        "    else:\n",
        "        secuencia.append(0)\n",
        "print('Secuencia de 1 y 0:', secuencia)\n",
        "\n",
        "# Saber el número de racha\n",
        "racha = 1\n",
        "for i in range(len(secuencia) - 1):  # Se resta 1 para evitar índice fuera de rango\n",
        "    if secuencia[i] != secuencia[i + 1]:  # Cambia de 1 a 0 o viceversa\n",
        "        racha += 1  # Aumenta la racha\n",
        "print('Número de rachas:', racha)\n",
        "\n",
        "# Calcular el valor esperado\n",
        "valor_esperado = (2 * len(Lista) - 1) / 3\n",
        "print('Valor esperado:', valor_esperado)\n",
        "\n",
        "# Calcular la varianza\n",
        "varianza_cuadrada = (16 * len(Lista) - 29) / 90\n",
        "print('Varianza cuadrada:', varianza_cuadrada)\n",
        "\n",
        "varianza = varianza_cuadrada**0.5\n",
        "print('Varianza:', varianza)\n",
        "\n",
        "# Calcular el z0\n",
        "z0 = abs((racha - valor_esperado) / varianza)\n",
        "print('Z0 =', z0)\n",
        "\n",
        "# Calcular el valor crítico z_alpha/2 para un nivel de confianza del 95%\n",
        "alpha = 0.05\n",
        "z_alpha_2 = stats.norm.ppf(1 - alpha / 2)\n",
        "print('Valor crítico z_alpha/2:', z_alpha_2)\n",
        "\n",
        "# Intervalo de aceptación\n",
        "print(f'Intervalo de aceptación: [-{z_alpha_2}, {z_alpha_2}]')\n",
        "\n",
        "# Verificar si z0 cae dentro del intervalo de aceptación\n",
        "if -z_alpha_2 <= z0 <= z_alpha_2:\n",
        "    print('Conclusión: No se rechaza la hipótesis nula (H0).')\n",
        "else:\n",
        "    print('Conclusión: Se rechaza la hipótesis nula (H0).')"
      ],
      "metadata": {
        "colab": {
          "base_uri": "https://localhost:8080/"
        },
        "id": "vZl_h_-yvu4k",
        "outputId": "bbc3c57c-7049-4bdf-e38b-14f5bb8425d4"
      },
      "execution_count": 34,
      "outputs": [
        {
          "output_type": "stream",
          "name": "stdout",
          "text": [
            "Lista generada: [0.55049309499853, 0.9340237722360065, 0.8069635838043877, 0.005744021195317028, 0.3215219969297366, 0.6409406238170111, 0.5734933536278912, 0.9957154887853388, 0.2692815597778383, 0.6313885818775082, 0.15346524410163143, 0.595065091435861, 0.29514270379172614, 0.32099366140531893, 0.6773038895348662, 0.35169151398875553, 0.26526824951242733, 0.13556542746819888, 0.747838613594787, 0.8935407354025613, 0.3253148032538461, 0.9496679665797716, 0.3414986992436665, 0.9311526536752713, 0.8553777252189918]\n",
            "Secuencia de 1 y 0: [1, 0, 0, 1, 1, 0, 1, 0, 1, 0, 1, 0, 1, 1, 0, 0, 0, 1, 1, 0, 1, 0, 1, 0]\n",
            "Número de rachas: 18\n",
            "Valor esperado: 16.333333333333332\n",
            "Varianza cuadrada: 4.122222222222222\n",
            "Varianza: 2.030325644378808\n",
            "Z0 = 0.8208863791288987\n",
            "Valor crítico z_alpha/2: 1.959963984540054\n",
            "Intervalo de aceptación: [-1.959963984540054, 1.959963984540054]\n",
            "Conclusión: No se rechaza la hipótesis nula (H0).\n"
          ]
        }
      ]
    }
  ]
}