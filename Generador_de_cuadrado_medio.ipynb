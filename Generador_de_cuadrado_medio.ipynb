{
  "nbformat": 4,
  "nbformat_minor": 0,
  "metadata": {
    "colab": {
      "provenance": [],
      "authorship_tag": "ABX9TyPq/0JjRjydMT4QgAoZHhMH",
      "include_colab_link": true
    },
    "kernelspec": {
      "name": "python3",
      "display_name": "Python 3"
    },
    "language_info": {
      "name": "python"
    }
  },
  "cells": [
    {
      "cell_type": "markdown",
      "metadata": {
        "id": "view-in-github",
        "colab_type": "text"
      },
      "source": [
        "<a href=\"https://colab.research.google.com/github/JimenezHAnaFer/SIMULACION-1/blob/main/Generador_de_cuadrado_medio.ipynb\" target=\"_parent\"><img src=\"https://colab.research.google.com/assets/colab-badge.svg\" alt=\"Open In Colab\"/></a>"
      ]
    },
    {
      "cell_type": "markdown",
      "source": [
        "**Generador de cuadrado medio**"
      ],
      "metadata": {
        "id": "n8b3aLQYeNFN"
      }
    },
    {
      "cell_type": "code",
      "source": [
        "#Generar una semilla\n",
        "semilla = 1938\n",
        "iteraciones = 5\n",
        "\n",
        "#Generar un ciclo for\n",
        "numeros_aleatorios = []\n",
        "x_j = semilla\n",
        "\n",
        "for _ in range(iteraciones):\n",
        "    cuadrado = x_j ** 2\n",
        "    str_cuadrado = str(cuadrado)\n",
        "    numeros_aleatorios.append(str_cuadrado[1:5])\n",
        "    x_j = int(str_cuadrado[1:5])\n",
        "\n",
        "print(numeros_aleatorios)\n",
        "\n",
        ""
      ],
      "metadata": {
        "colab": {
          "base_uri": "https://localhost:8080/"
        },
        "id": "wZriWLjth--l",
        "outputId": "131980c5-4875-4d78-defe-30d73da76e9e"
      },
      "execution_count": 5,
      "outputs": [
        {
          "output_type": "stream",
          "name": "stdout",
          "text": [
            "['7558', '7123', '0737', '4316', '8627']\n"
          ]
        }
      ]
    },
    {
      "cell_type": "code",
      "source": [
        "#Generar una semilla\n",
        "semilla = 1938\n",
        "iteraciones = 10\n",
        "\n",
        "#Generar un ciclo for\n",
        "numeros_aleatorios = []\n",
        "x_j = semilla\n",
        "\n",
        "for _ in range(iteraciones):\n",
        "    cuadrado = x_j ** 2\n",
        "    str_cuadrado = str(cuadrado)\n",
        "    len(str_cuadrado)\n",
        "    if len(str_cuadrado) < 8:\n",
        "        str_cuadrado = '0' + str_cuadrado\n",
        "    numeros_aleatorios.append(str_cuadrado[2:6])\n",
        "    x_j = int(str_cuadrado[2:6])\n",
        "\n",
        "print(numeros_aleatorios)"
      ],
      "metadata": {
        "colab": {
          "base_uri": "https://localhost:8080/"
        },
        "id": "nKD8jDyYnsO0",
        "outputId": "185ad36f-0bff-4f24-8433-67552e2c204b"
      },
      "execution_count": 19,
      "outputs": [
        {
          "output_type": "stream",
          "name": "stdout",
          "text": [
            "['7558', '1233', '5202', '0608', '6966', '5251', '5730', '8329', '3722', '8532']\n"
          ]
        }
      ]
    },
    {
      "cell_type": "code",
      "source": [
        "from posixpath import join\n",
        "import pandas as pd\n",
        "import tabulate\n",
        "#Generar una semilla\n",
        "semilla = 1938\n",
        "iteraciones = 10\n",
        "\n",
        "#Generar un ciclo for\n",
        "numeros_aleatorios = []\n",
        "x_j = semilla\n",
        "\n",
        "for _ in range(iteraciones):\n",
        "    cuadrado = x_j ** 2\n",
        "    str_cuadrado = str(cuadrado)\n",
        "    len(str_cuadrado)\n",
        "    if len(str_cuadrado) < 8:\n",
        "        str_cuadrado = '0' + str_cuadrado\n",
        "    numeros_aleatorios.append(str_cuadrado[2:6])\n",
        "    x_j = int(str_cuadrado[2:6])\n",
        "\n",
        "print(numeros_aleatorios)\n",
        "print(tabulate.tabulate(numeros_aleatorios))"
      ],
      "metadata": {
        "colab": {
          "base_uri": "https://localhost:8080/"
        },
        "id": "5IOwuBuprD80",
        "outputId": "8b01dd7a-329d-47db-b94c-79af7ebc18ee"
      },
      "execution_count": 28,
      "outputs": [
        {
          "output_type": "stream",
          "name": "stdout",
          "text": [
            "['7558', '1233', '5202', '0608', '6966', '5251', '5730', '8329', '3722', '8532']\n",
            "-  -  -  -\n",
            "7  5  5  8\n",
            "1  2  3  3\n",
            "5  2  0  2\n",
            "0  6  0  8\n",
            "6  9  6  6\n",
            "5  2  5  1\n",
            "5  7  3  0\n",
            "8  3  2  9\n",
            "3  7  2  2\n",
            "8  5  3  2\n",
            "-  -  -  -\n"
          ]
        }
      ]
    }
  ]
}