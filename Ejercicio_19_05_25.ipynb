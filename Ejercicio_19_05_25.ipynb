{
  "nbformat": 4,
  "nbformat_minor": 0,
  "metadata": {
    "colab": {
      "provenance": [],
      "authorship_tag": "ABX9TyN9HLRPUdzXmFG8tKXsrbc0",
      "include_colab_link": true
    },
    "kernelspec": {
      "name": "python3",
      "display_name": "Python 3"
    },
    "language_info": {
      "name": "python"
    }
  },
  "cells": [
    {
      "cell_type": "markdown",
      "metadata": {
        "id": "view-in-github",
        "colab_type": "text"
      },
      "source": [
        "<a href=\"https://colab.research.google.com/github/JimenezHAnaFer/SIMULACION-1/blob/main/Ejercicio_19_05_25.ipynb\" target=\"_parent\"><img src=\"https://colab.research.google.com/assets/colab-badge.svg\" alt=\"Open In Colab\"/></a>"
      ]
    },
    {
      "cell_type": "markdown",
      "source": [
        "#Problema de flecha"
      ],
      "metadata": {
        "id": "cTcB1cOIbe7o"
      }
    },
    {
      "cell_type": "markdown",
      "source": [
        "Una flecha sera ensamblada en un cojinete como se muestra a continuación"
      ],
      "metadata": {
        "id": "uKaj7rsrcQpA"
      }
    },
    {
      "cell_type": "markdown",
      "source": [
        "![image.png](data:image/png;base64,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)"
      ],
      "metadata": {
        "id": "6drE84AmdAep"
      }
    },
    {
      "cell_type": "markdown",
      "source": [
        "Si $x_1$ sigue una distribución normal con media de 1.5 y varianza 0.0016, $x_2$ sigue esta misma distribución con media 1.48 y varianza de 0.0009.\n",
        "\n",
        "**Determinar**\n",
        "\n",
        "a)Probabilidad dde interferencia\n",
        "\n",
        "b)El N° de veces que es necesario hacer el experimento, si se quiere que la probabilidad de interferencia estimada difiera de su valor verdadero de 0.01 con un nivel de seguridad del 95 %"
      ],
      "metadata": {
        "id": "mkJogKTodDXA"
      }
    },
    {
      "cell_type": "markdown",
      "source": [
        "#Solución"
      ],
      "metadata": {
        "id": "W-lvMg7NeqxA"
      }
    },
    {
      "cell_type": "markdown",
      "source": [
        "**Paso 1**\n"
      ],
      "metadata": {
        "id": "5wybfcj_e0fI"
      }
    },
    {
      "cell_type": "markdown",
      "source": [
        "Identifique las variables\n",
        "\n",
        "$$x_1 \\sim N(1.5, 0.004)$$\n",
        "$$x_1 \\sim N(1.48, 0.03)$$\n"
      ],
      "metadata": {
        "id": "1G6YIWTkg1so"
      }
    },
    {
      "cell_type": "markdown",
      "source": [
        "**Paso 2**"
      ],
      "metadata": {
        "id": "W92wqIFsf2QA"
      }
    },
    {
      "cell_type": "markdown",
      "source": [
        "Determine la distribución de probabilidad\n",
        "\n",
        "\n",
        "$$x_1 \\sim f(x) = \\frac{1}{(0.04)\\sqrt{2\\pi}} e^{-\\frac{1}{2} \\frac{(x-1.5)^2}{(0.04)^2}}$$\n",
        "\n",
        "$$x_2 \\sim f(x) = \\frac{1}{(0.03)\\sqrt{2\\pi}} e^{-\\frac{1}{2} \\frac{(x-1.48)^2}{(0.03)^2}}$$"
      ],
      "metadata": {
        "id": "fY3Iyt7phmT5"
      }
    },
    {
      "cell_type": "markdown",
      "source": [
        "**Paso 3**"
      ],
      "metadata": {
        "id": "VwutrvEIf3mA"
      }
    },
    {
      "cell_type": "markdown",
      "source": [
        "**Modelar las variables aleatorias**\n",
        "\n",
        "Usaremos el metodo de **Box Müller**, ya que es más preciso y además entran dos variables y regresa dos variables lo que computacionalmete lo hace mejor.\n",
        "Descartamos la opción de usar el método de las 12 uniformes ya que para crear una variables por experimento necesitamos 12 variables, lo cual computaionalmente es muy caro."
      ],
      "metadata": {
        "id": "wrOQ2pZVXGVk"
      }
    },
    {
      "cell_type": "markdown",
      "source": [
        "**Paso 4 (a)**"
      ],
      "metadata": {
        "id": "1ASgcFlVf47I"
      }
    },
    {
      "cell_type": "markdown",
      "source": [
        "Definir el modelo y los objetivos de la simulación\n",
        "\n",
        "1. Condición de interferencia:\n",
        "$$x_2 \\geq x_1$$\n",
        "\n",
        "2. Buscamos que:\n",
        "$$P(x_2\\geq x_1)$$"
      ],
      "metadata": {
        "id": "3LCtzn15X08g"
      }
    },
    {
      "cell_type": "markdown",
      "source": [
        "**Paso 5**"
      ],
      "metadata": {
        "id": "CN-Gn7zvf8zg"
      }
    },
    {
      "cell_type": "markdown",
      "source": [
        "Pseudocódigo:\n",
        "\n",
        "\\begin{aligned}\n",
        "&\\text{}  n  = 10 \\\\\n",
        "&\\text{Generar } x_1, x_2 \\sim N(\\mu,σ) \\\\\n",
        "&\\text{Si } x_2 \\geq x_1  \\\\\n",
        "&\\text{Calcular la probabilidad de la forma }  \\\\\n",
        "&\\text{Suma de interferencias  } \\text{exitos}/10\n",
        "\\end{aligned}"
      ],
      "metadata": {
        "id": "W166RLrKYjxd"
      }
    },
    {
      "cell_type": "markdown",
      "source": [
        "**Paso 6**"
      ],
      "metadata": {
        "id": "jbeyX94Lf_CA"
      }
    },
    {
      "cell_type": "markdown",
      "source": [
        "Repetir M veces el experimento"
      ],
      "metadata": {
        "id": "Vw5NLnHZYpR9"
      }
    },
    {
      "cell_type": "code",
      "source": [
        "import numpy as np\n",
        "import matplotlib.pyplot as plt\n",
        "import random as rd\n",
        "from scipy.stats import norm\n",
        "\n",
        "#Definir el experimento\n",
        "def experimento(x):\n",
        "    exitos = 0\n",
        "    for i in range(x):\n",
        "        x1 = np.random.normal(1.5, 0.04,1)\n",
        "        x2 = np.random.normal(1.48, 0.03,1)\n",
        "        if x2 >= x1:\n",
        "            exitos += 1\n",
        "    prob = exitos / x\n",
        "    return prob\n",
        "\n",
        "#Realizar m experimentos para la muestra\n",
        "m = 1000\n",
        "\n",
        "lista = []\n",
        "for i in range(m):\n",
        "    lista.append(experimento(i+1))\n"
      ],
      "metadata": {
        "id": "uLcRgfllYqrd"
      },
      "execution_count": 35,
      "outputs": []
    },
    {
      "cell_type": "markdown",
      "source": [
        "**Paso 7**"
      ],
      "metadata": {
        "id": "qZ3SCveugBUQ"
      }
    },
    {
      "cell_type": "markdown",
      "source": [
        "Determinar el tamaño de la muestra"
      ],
      "metadata": {
        "id": "kDF7iK3zZXxD"
      }
    },
    {
      "cell_type": "code",
      "source": [
        "plt.plot(lista)\n",
        "plt.xlabel('Experimento')\n",
        "plt.ylabel('Probabilidad estimada')\n",
        "plt.title('Flecha y cojinete')\n",
        "plt.grid(True)\n",
        "plt.show()"
      ],
      "metadata": {
        "colab": {
          "base_uri": "https://localhost:8080/",
          "height": 472
        },
        "id": "wW-nbO2ZZbmL",
        "outputId": "9b545b4f-bdcc-4c1f-9bfa-6942779d06d7"
      },
      "execution_count": 36,
      "outputs": [
        {
          "output_type": "display_data",
          "data": {
            "text/plain": [
              "<Figure size 640x480 with 1 Axes>"
            ],
            "image/png": "[encoded data removed]"
          },
          "metadata": {}
        }
      ]
    },
    {
      "cell_type": "code",
      "source": [
        "print(\"La media es: \", np.mean(lista))\n",
        "print(\"La varianza es: \", np.var(lista))\n",
        "print(\"La desviación estándar es: \", np.std(lista))"
      ],
      "metadata": {
        "colab": {
          "base_uri": "https://localhost:8080/"
        },
        "id": "Q7Ht7Pq2cB68",
        "outputId": "6e9b7a87-1046-4b7b-a64b-31b148531ac3"
      },
      "execution_count": 37,
      "outputs": [
        {
          "output_type": "stream",
          "name": "stdout",
          "text": [
            "La media es:  0.34438505791550383\n",
            "La varianza es:  0.0014961876081218061\n",
            "La desviación estándar es:  0.03868058438185502\n"
          ]
        }
      ]
    },
    {
      "cell_type": "markdown",
      "source": [
        "**Paso 4 (b)**"
      ],
      "metadata": {
        "id": "4TUd1WdCd1UY"
      }
    },
    {
      "cell_type": "markdown",
      "source": [
        "Determinar el número de veces necesario $N$ para realizar el experimento si se quiere que la probabilidad de interferencia estimada difiera de su valor verdadero en máximo 0.01, con un nivel de confianza del 67%."
      ],
      "metadata": {
        "id": "jM4hKMwGhkOh"
      }
    },
    {
      "cell_type": "markdown",
      "source": [
        "**Paso 5**"
      ],
      "metadata": {
        "id": "2jgJ0nhljmwV"
      }
    },
    {
      "cell_type": "markdown",
      "source": [
        "Pseudocódigo:\n",
        "\n",
        "**error = 0.01**\n",
        "\n",
        "**confianza = 0.67**\n",
        "\n",
        "**z = 0.97  # valor para 67% confianza**\n",
        "\n",
        "**calcular_probabilidad_teorica**\n",
        "\n",
        "**Realizar N experimentos**\n",
        "\n",
        "**Mostrar resultados**\n"
      ],
      "metadata": {
        "id": "wEREB20Djmg2"
      }
    },
    {
      "cell_type": "markdown",
      "source": [
        "**Paso 6**"
      ],
      "metadata": {
        "id": "RCnEIlSslL9Q"
      }
    },
    {
      "cell_type": "markdown",
      "source": [
        "Cálculo del Tamaño de Muestra $N$\n",
        "\n",
        "1. Fórmula para $N$:\n",
        "\n",
        "$$N \\geq (\\frac{z}{E})^2p(1-p) $$\n",
        "\n",
        "Donde\n",
        "\n",
        "$z=$ 0.97 (para 67% confianza)\n",
        "\n",
        "$E=$0.01\n",
        "\n",
        "$p \\approx$  Valor teórico o una estimación conservadora ($p=0.5$ maximiza $N$)\n",
        "\n",
        "$$N \\geq (\\frac{0.97}{0.01})^2(0.25) \\approx 2352$$"
      ],
      "metadata": {
        "id": "TDLLomu4lOiJ"
      }
    },
    {
      "cell_type": "code",
      "source": [
        "#Cálculo teórico\n",
        "mu_dif=1.48 - 1.5\n",
        "sigma_dif=np.sqrt(0.03**2 + 0.04**2)\n",
        "prob_teorica=1 - norm.cdf(0, loc=mu_dif, scale=sigma_dif)\n",
        "\n",
        "error_maximo = 0.01\n",
        "confianza = 0.67\n",
        "\n",
        "#Cálculo de n necesario (fórmula estadística)\n",
        "z = norm.ppf((1 + confianza)/2)\n",
        "n_necesario = int((z**2 * prob_teorica * (1 - prob_teorica)) / (error_maximo**2)) + 1\n",
        "\n",
        "prob_estimada = experimento(n_necesario)\n",
        "diferencia = abs(prob_estimada - prob_teorica)\n",
        "\n",
        "\n",
        "print('Probabilidad teórica:', prob_teorica)\n",
        "print('Experimentos necesarios:', n_necesario)\n",
        "print('Probabilidad estimada:', prob_estimada)\n",
        "print('Diferencia:', diferencia)\n",
        "print('¿Cumple con el error?','Sí' if diferencia <= error_maximo else 'No')\n"
      ],
      "metadata": {
        "colab": {
          "base_uri": "https://localhost:8080/"
        },
        "id": "Gdhr4s4NepWm",
        "outputId": "0ebe2dee-3167-4530-8ccb-7fa9abe972c6"
      },
      "execution_count": 38,
      "outputs": [
        {
          "output_type": "stream",
          "name": "stdout",
          "text": [
            "Probabilidad teórica: 0.3445782583896757\n",
            "Experimentos necesarios: 2144\n",
            "Probabilidad estimada: 0.34095149253731344\n",
            "Diferencia: 0.003626765852362268\n",
            "¿Cumple con el error? Sí\n"
          ]
        }
      ]
    }
  ]
}