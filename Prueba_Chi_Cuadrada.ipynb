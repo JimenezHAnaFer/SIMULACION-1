{
  "nbformat": 4,
  "nbformat_minor": 0,
  "metadata": {
    "colab": {
      "provenance": [],
      "authorship_tag": "ABX9TyN2cyohrhmDMRw9MZvTezv6",
      "include_colab_link": true
    },
    "kernelspec": {
      "name": "python3",
      "display_name": "Python 3"
    },
    "language_info": {
      "name": "python"
    }
  },
  "cells": [
    {
      "cell_type": "markdown",
      "metadata": {
        "id": "view-in-github",
        "colab_type": "text"
      },
      "source": [
        "<a href=\"https://colab.research.google.com/github/JimenezHAnaFer/SIMULACION-1/blob/main/Prueba_Chi_Cuadrada.ipynb\" target=\"_parent\"><img src=\"https://colab.research.google.com/assets/colab-badge.svg\" alt=\"Open In Colab\"/></a>"
      ]
    },
    {
      "cell_type": "markdown",
      "source": [
        "**Prueba Chi-Cuadrada**"
      ],
      "metadata": {
        "id": "F0DhOua2Dryp"
      }
    },
    {
      "cell_type": "code",
      "execution_count": 23,
      "metadata": {
        "colab": {
          "base_uri": "https://localhost:8080/"
        },
        "id": "PErkzhtwDqCl",
        "outputId": "45590fd1-f428-4b58-a0d5-99a91b122c84"
      },
      "outputs": [
        {
          "output_type": "stream",
          "name": "stdout",
          "text": [
            "Frecuencia observada: [7, 3, 9, 3, 3]\n",
            "Frecuencia esperada: [5.0, 5.0, 5.0, 5.0, 5.0]\n",
            "Estadístico Chi-cuadrado: 6.4\n",
            "Valor crítico para alpha=0.05 y 4 grados de libertad: 9.488\n",
            "No rechazamos la hipótesis nula.\n"
          ]
        }
      ],
      "source": [
        "# Lista de números aleatorios\n",
        "Lista = [0.048, 0.926, 0.368, 0.787, 0.298, 0.591, 0.007, 0.437, 0.594, 0.199, 0.478, 0.551, 0.178, 0.086, 0.157, 0.166, 0.362, 0.411, 0.951, 0.401, 0.932, 0.533, 0.545, 0.772, 0.631]\n",
        "n = len(Lista)  # Tamaño de la muestra\n",
        "\n",
        "# Paso 1: Agrupar los números en k clases disjuntas de igual amplitud A\n",
        "k = 5  # Número de clases\n",
        "A = 1.0 / k  # Amplitud de cada clase\n",
        "\n",
        "# Crear los límites de las clases\n",
        "limites_clases = [i * A for i in range(k + 1)]\n",
        "\n",
        "# Paso 2: Calcular la frecuencia observada en cada clase\n",
        "frec_observada = [0] * k  # Inicializar una lista de ceros para las frecuencias\n",
        "\n",
        "for numero in Lista:\n",
        "    for i in range(k):\n",
        "        if limites_clases[i] <= numero < limites_clases[i + 1]:\n",
        "            frec_observada[i] += 1\n",
        "            break\n",
        "\n",
        "# Frecuencia esperada (uniforme)\n",
        "frec_esperada = [n * A] * k\n",
        "\n",
        "# Paso 3: Calcular el estadístico Chi-cuadrado\n",
        "chi_cuadrado = 0\n",
        "for i in range(k):\n",
        "    chi_cuadrado += ((frec_observada[i] - frec_esperada[i]) ** 2) / frec_esperada[i]\n",
        "\n",
        "print(\"Frecuencia observada:\", frec_observada)\n",
        "print(\"Frecuencia esperada:\", frec_esperada)\n",
        "print(\"Estadístico Chi-cuadrado:\", chi_cuadrado)\n",
        "\n",
        "# Paso 4: Determinar el valor crítico usando una tabla predefinida\n",
        "# Tabla de valores críticos de Chi-cuadrado para alpha = 0.05\n",
        "tabla_chi_cuadrado = {\n",
        "    1: 3.841,  # 1 grado de libertad\n",
        "    2: 5.991,  # 2 grados de libertad\n",
        "    3: 7.815,  # 3 grados de libertad\n",
        "    4: 9.488,  # 4 grados de libertad\n",
        "    5: 11.070, # 5 grados de libertad\n",
        "    6: 12.592, # 6 grados de libertad\n",
        "    7: 14.067, # 7 grados de libertad\n",
        "    8: 15.507, # 8 grados de libertad\n",
        "    9: 16.919, # 9 grados de libertad\n",
        "    10: 18.307 # 10 grados de libertad\n",
        "}\n",
        "\n",
        "alpha = 0.05  # Nivel de significancia\n",
        "grados_libertad = k - 1  # Grados de libertad\n",
        "\n",
        "# Obtener el valor crítico de la tabla\n",
        "if grados_libertad in tabla_chi_cuadrado:\n",
        "    valor_critico = tabla_chi_cuadrado[grados_libertad]\n",
        "else:\n",
        "    print(\"Error: Grados de libertad no están en la tabla predefinida.\")\n",
        "    valor_critico = None\n",
        "\n",
        "if valor_critico is not None:\n",
        "    print(f\"Valor crítico para alpha={alpha} y {grados_libertad} grados de libertad: {valor_critico}\")\n",
        "\n",
        "    # Comparar el estadístico Chi-cuadrado con el valor crítico\n",
        "    if chi_cuadrado > valor_critico:\n",
        "        print(\"Rechazamos la hipótesis nula.\")\n",
        "    else:\n",
        "        print(\"No rechazamos la hipótesis nula.\")"
      ]
    },
    {
      "cell_type": "markdown",
      "source": [
        "**Codigo para una lista aleatoria**"
      ],
      "metadata": {
        "id": "2H5ZZpwGGdAi"
      }
    },
    {
      "cell_type": "code",
      "source": [
        "import random\n",
        "\n",
        "# Generar una lista de n números aleatorios entre 0 y 1\n",
        "n = 25  # Tamaño de la muestra\n",
        "Lista = [round(random.random(), 4) for _ in range(n)]  # Lista de números aleatorios con 4 decimales\n",
        "\n",
        "print(\"Lista de números aleatorios:\", Lista)\n",
        "\n",
        "# Paso 1: Agrupar los números en k clases disjuntas de igual amplitud A\n",
        "k = 5  # Número de clases\n",
        "A = 1.0 / k  # Amplitud de cada clase\n",
        "\n",
        "# Crear los límites de las clases\n",
        "limites_clases = [i * A for i in range(k + 1)]\n",
        "\n",
        "# Paso 2: Calcular la frecuencia observada en cada clase\n",
        "frec_observada = [0] * k  # Inicializar una lista de ceros para las frecuencias\n",
        "\n",
        "for numero in Lista:\n",
        "    for i in range(k):\n",
        "        if limites_clases[i] <= numero < limites_clases[i + 1]:\n",
        "            frec_observada[i] += 1\n",
        "            break\n",
        "\n",
        "# Frecuencia esperada (uniforme)\n",
        "frec_esperada = [n * A] * k\n",
        "\n",
        "# Paso 3: Calcular el estadístico Chi-cuadrado\n",
        "chi_cuadrado = 0\n",
        "for i in range(k):\n",
        "    chi_cuadrado += ((frec_observada[i] - frec_esperada[i]) ** 2) / frec_esperada[i]\n",
        "\n",
        "print(\"Frecuencia observada:\", frec_observada)\n",
        "print(\"Frecuencia esperada:\", frec_esperada)\n",
        "print(\"Estadístico Chi-cuadrado:\", chi_cuadrado)\n",
        "\n",
        "# Paso 4: Determinar el valor crítico usando una tabla predefinida\n",
        "# Tabla de valores críticos de Chi-cuadrado para alpha = 0.05\n",
        "tabla_chi_cuadrado = {\n",
        "    1: 3.841,  # 1 grado de libertad\n",
        "    2: 5.991,  # 2 grados de libertad\n",
        "    3: 7.815,  # 3 grados de libertad\n",
        "    4: 9.488,  # 4 grados de libertad\n",
        "    5: 11.070, # 5 grados de libertad\n",
        "    6: 12.592, # 6 grados de libertad\n",
        "    7: 14.067, # 7 grados de libertad\n",
        "    8: 15.507, # 8 grados de libertad\n",
        "    9: 16.919, # 9 grados de libertad\n",
        "    10: 18.307 # 10 grados de libertad\n",
        "}\n",
        "\n",
        "alpha = 0.05  # Nivel de significancia\n",
        "grados_libertad = k - 1  # Grados de libertad\n",
        "\n",
        "# Obtener el valor crítico de la tabla\n",
        "if grados_libertad in tabla_chi_cuadrado:\n",
        "    valor_critico = tabla_chi_cuadrado[grados_libertad]\n",
        "else:\n",
        "    print(\"Error: Grados de libertad no están en la tabla predefinida.\")\n",
        "    valor_critico = None\n",
        "\n",
        "if valor_critico is not None:\n",
        "    print(f\"Valor crítico para alpha={alpha} y {grados_libertad} grados de libertad: {valor_critico}\")\n",
        "\n",
        "    # Comparar el estadístico Chi-cuadrado con el valor crítico\n",
        "    if chi_cuadrado > valor_critico:\n",
        "        print(\"Rechazamos la hipótesis nula.\")\n",
        "    else:\n",
        "        print(\"No rechazamos la hipótesis nula.\")"
      ],
      "metadata": {
        "colab": {
          "base_uri": "https://localhost:8080/"
        },
        "id": "VT4ELtBJGhUK",
        "outputId": "4c9ff689-4eaf-4122-a766-5806fcbd1c14"
      },
      "execution_count": 24,
      "outputs": [
        {
          "output_type": "stream",
          "name": "stdout",
          "text": [
            "Lista de números aleatorios: [0.2935, 0.1477, 0.7939, 0.2667, 0.4695, 0.0614, 0.4292, 0.3107, 0.9358, 0.5739, 0.2831, 0.6347, 0.1545, 0.24, 0.6452, 0.2227, 0.0349, 0.4238, 0.7429, 0.7131, 0.624, 0.8564, 0.5916, 0.3322, 0.0439]\n",
            "Frecuencia observada: [5, 7, 5, 6, 2]\n",
            "Frecuencia esperada: [5.0, 5.0, 5.0, 5.0, 5.0]\n",
            "Estadístico Chi-cuadrado: 2.8\n",
            "Valor crítico para alpha=0.05 y 4 grados de libertad: 9.488\n",
            "No rechazamos la hipótesis nula.\n"
          ]
        }
      ]
    }
  ]
}